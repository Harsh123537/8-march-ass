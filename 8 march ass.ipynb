{
 "cells": [
  {
   "cell_type": "markdown",
   "id": "d9da51b8-75dd-4edf-9da1-a67e8e206a5b",
   "metadata": {},
   "source": [
    "Q1. What is the Probability density function?"
   ]
  },
  {
   "cell_type": "markdown",
   "id": "b1fc1ef4-5b12-41be-9462-728b166f081c",
   "metadata": {},
   "source": [
    "The probability density function (PDF) is a fundamental concept in probability theory and statistics. It is used to describe the probability distribution of a continuous random variable. In simple terms, the PDF gives the likelihood of a random variable taking on a specific value within a given range."
   ]
  },
  {
   "cell_type": "markdown",
   "id": "b66a9fef-57e2-4cec-a7cd-f39758b7f472",
   "metadata": {},
   "source": [
    "Q2. What are the types of Probability distribution?"
   ]
  },
  {
   "cell_type": "markdown",
   "id": "b05cef57-9378-4b40-8834-1589a7af9a01",
   "metadata": {},
   "source": [
    "1)probability density function\n",
    "2)probabilty mass function"
   ]
  },
  {
   "cell_type": "markdown",
   "id": "975ab864-a230-43fe-a11f-3b0ae5c91a60",
   "metadata": {},
   "source": [
    "Q3. Write a Python function to calculate the probability density function of a normal distribution with\n",
    "given mean and standard deviation at a given point."
   ]
  },
  {
   "cell_type": "code",
   "execution_count": 2,
   "id": "5961b148-9fa1-4577-9a9e-80d93e2d61b3",
   "metadata": {},
   "outputs": [],
   "source": [
    "import math\n",
    "\n",
    "def calculate_normal_pdf(x, mean, std_dev):\n",
    "    coefficient = 1 / (std_dev * math.sqrt(2 * math.pi))\n",
    "    exponent = -((x - mean) ** 2) / (2 * std_dev ** 2)\n",
    "    pdf = coefficient * math.exp(exponent)\n",
    "    return pdf\n"
   ]
  },
  {
   "cell_type": "markdown",
   "id": "eca888e9-2cc1-4cc3-9db9-af789b5d4e73",
   "metadata": {},
   "source": [
    "Q4. What are the properties of Binomial distribution? Give two examples of events where binomial\n",
    "distribution can be applied."
   ]
  },
  {
   "cell_type": "markdown",
   "id": "8d8e3ce7-6862-4d56-97d7-9a90d5f8e43b",
   "metadata": {},
   "source": [
    "1)The Binomial distribution is a discrete probability distribution \n",
    "2)Fixed Number of Trials: The Binomial distribution represents a fixed number, denoted as \"n,\" of independent trials.\n",
    "3)Two Possible Outcomes: Each trial has two possible outcomes: success (typically denoted as \"S\") or failure (typically denoted as \"F\").\n",
    "4)Independent Trials: Each trial is independent of the others, meaning the outcome of one trial does not affect the outcome of the others."
   ]
  },
  {
   "cell_type": "markdown",
   "id": "661599a0-6477-4dfd-a884-3717065f24f2",
   "metadata": {},
   "source": [
    "Q5. Generate a random sample of size 1000 from a binomial distribution with probability of success 0.4\n",
    "and plot a histogram of the results using matplotlib."
   ]
  },
  {
   "cell_type": "code",
   "execution_count": 4,
   "id": "698132d7-964f-446b-8e0a-0a0c06e6f318",
   "metadata": {},
   "outputs": [
    {
     "data": {
      "image/png": "[encoded data removed]",
      "text/plain": [
       "<Figure size 640x480 with 1 Axes>"
      ]
     },
     "metadata": {},
     "output_type": "display_data"
    }
   ],
   "source": [
    "import numpy as np\n",
    "import matplotlib.pyplot as plt\n",
    "\n",
    "# Set the parameters\n",
    "n = 1000  # Sample size\n",
    "p = 0.4  # Probability of success\n",
    "\n",
    "# Generate random sample from binomial distribution\n",
    "sample = np.random.binomial(n, p, size=n)\n",
    "\n",
    "# Plot the histogram\n",
    "plt.hist(sample)\n",
    "plt.show()"
   ]
  },
  {
   "cell_type": "markdown",
   "id": "7e5e75b0-f517-4fc0-89a8-266036bfab29",
   "metadata": {},
   "source": [
    "Q6. Write a Python function to calculate the cumulative distribution function of a Poisson distribution\n",
    "with given mean at a given point."
   ]
  },
  {
   "cell_type": "code",
   "execution_count": 5,
   "id": "b8d990a3-6a7d-4a37-ba80-35704777479b",
   "metadata": {},
   "outputs": [],
   "source": [
    "import math\n",
    "\n",
    "def calculate_poisson_cdf(k, mean):\n",
    "    cdf = 0.0\n",
    "    for i in range(k + 1):\n",
    "        cdf += math.exp(-mean) * (mean ** i) / math.factorial(i)\n",
    "    return cdf\n"
   ]
  },
  {
   "cell_type": "markdown",
   "id": "b26c7310-02c1-4cc3-801e-1e8d40714cbc",
   "metadata": {},
   "source": [
    "Q7. How Binomial distribution different from Poisson distribution?"
   ]
  },
  {
   "cell_type": "markdown",
   "id": "1204d2b8-6cf1-427a-9bfd-8e619c94d528",
   "metadata": {},
   "source": [
    "the Binomial distribution is used for a fixed number of independent trials with two outcomes, while the Poisson distribution is used to model the number of rare events occurring in a fixed interval. The Binomial distribution requires knowledge of the number of trials and the probability of success, whereas the Poisson distribution is characterized by a single parameter representing the average event rate."
   ]
  },
  {
   "cell_type": "markdown",
   "id": "f15e57b4-c900-44a2-aa75-89ecfddd05c1",
   "metadata": {},
   "source": [
    "Q8. Generate a random sample of size 1000 from a Poisson distribution with mean 5 and calculate the\n",
    "sample mean and variance."
   ]
  },
  {
   "cell_type": "code",
   "execution_count": 6,
   "id": "55d26498-7355-4a73-ad6f-03092c6c6071",
   "metadata": {},
   "outputs": [
    {
     "name": "stdout",
     "output_type": "stream",
     "text": [
      "Sample Mean: 5.047\n",
      "Sample Variance: 5.096791\n"
     ]
    }
   ],
   "source": [
    "import numpy as np\n",
    "\n",
    "# Set the parameters\n",
    "mean = 5  # Mean of the Poisson distribution\n",
    "sample_size = 1000  # Sample size\n",
    "\n",
    "# Generate random sample from Poisson distribution\n",
    "sample = np.random.poisson(mean, size=sample_size)\n",
    "\n",
    "# Calculate the sample mean and variance\n",
    "sample_mean = np.mean(sample)\n",
    "sample_variance = np.var(sample)\n",
    "\n",
    "print(\"Sample Mean:\", sample_mean)\n",
    "print(\"Sample Variance:\", sample_variance)\n"
   ]
  },
  {
   "cell_type": "markdown",
   "id": "66b514a3-e52e-4b20-9bc1-d0bdac93ee8b",
   "metadata": {},
   "source": [
    "Q9. How mean and variance are related in Binomial distribution and Poisson distribution?"
   ]
  },
  {
   "cell_type": "markdown",
   "id": "7bd1287c-a885-4380-b845-bd43943090e2",
   "metadata": {},
   "source": [
    "For the Binomial distribution:\n",
    "\n",
    "Mean: The mean of a Binomial distribution is given by μ = n * p, where \"n\" is the number of trials and \"p\" is the probability of success in each trial.\n",
    "Variance: The variance of a Binomial distribution is given by σ^2 = n * p * (1 - p).\n",
    "\n",
    "For the Poisson distribution:\n",
    "\n",
    "Mean: The mean of a Poisson distribution is denoted as λ (lambda), which represents the average rate or mean rate of events occurring in a fixed interval.\n",
    "Variance: The variance of a Poisson distribution is also given by σ^2 = λ."
   ]
  },
  {
   "cell_type": "markdown",
   "id": "0fddaa24-a9e3-4790-8bf8-f3fcac705515",
   "metadata": {},
   "source": [
    "Q10. In normal distribution with respect to mean position, where does the least frequent data appear?"
   ]
  },
  {
   "cell_type": "markdown",
   "id": "84cbd573-9ad0-4893-85d6-6cf663105684",
   "metadata": {},
   "source": [
    "In a normal distribution, also known as a Gaussian distribution, the data is symmetrically distributed around the mean. The least frequent data points appear in the tails of the distribution, farthest away from the mean."
   ]
  },
  {
   "cell_type": "code",
   "execution_count": null,
   "id": "b92a2614-70da-42ef-8d0d-0bc82bde2858",
   "metadata": {},
   "outputs": [],
   "source": []
  }
 ],
 "metadata": {
  "kernelspec": {
   "display_name": "Python 3 (ipykernel)",
   "language": "python",
   "name": "python3"
  },
  "language_info": {
   "codemirror_mode": {
    "name": "ipython",
    "version": 3
   },
   "file_extension": ".py",
   "mimetype": "text/x-python",
   "name": "python",
   "nbconvert_exporter": "python",
   "pygments_lexer": "ipython3",
   "version": "3.10.8"
  }
 },
 "nbformat": 4,
 "nbformat_minor": 5
}
